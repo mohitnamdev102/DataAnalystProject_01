{
 "cells": [
  {
   "cell_type": "code",
   "execution_count": 1,
   "metadata": {},
   "outputs": [],
   "source": [
    "import requests\n",
    "from bs4 import BeautifulSoup\n",
    "import json\n",
    "# 3387\n",
    "prefix = \"\"\"https://livingliquidz.com\"\"\"\n",
    "\n",
    "\n",
    "soup1 = BeautifulSoup(requests.get(prefix).content, 'html.parser')\n",
    "div_elements = soup1.select(\"div.row.g-4.justify-content-end div.col-6\")\n",
    "main_list = []\n",
    "name_list = []\n",
    "\n",
    "LeftCollectedData = []\n",
    "\n",
    "for div in div_elements:\n",
    "    left = []\n",
    "    a_element = div.find(\"a\")\n",
    "    if a_element:  # Check if an <a> element is found\n",
    "        href = a_element.get(\"href\")  # Extract the href attribute\n",
    "        # print(\"................................................................\")\n",
    "        # print(a_element.text.strip())\n",
    "        # print(prefix + href)\n",
    "        t1 = a_element.text.strip()\n",
    "        soup2 = BeautifulSoup(requests.get(prefix + href).content, 'html.parser')\n",
    "        \n",
    "\n",
    "        for j in soup2.find_all(\"a\", class_='mx-3 p-3 mb-3 rounded-m bg-white shadow-m d-block text-wine font-18 font-600'):\n",
    "            t2 = j.text.strip()\n",
    "            left = [t1, t2]\n",
    "            LeftCollectedData.append(left)\n",
    "            if div.text.strip():\n",
    "                # print(div.text.strip())\n",
    "                value1 = div.text.strip()\n",
    "            \n",
    "            # other \n",
    "            # print(j.text.strip())\n",
    "            input_list = j.text.strip().split(\" \")\n",
    "            num_repeats = int(input_list[-1][1:-1])\n",
    "            input_list = input_list[:-1]\n",
    "            # print(num_repeats)\n",
    "\n",
    "            for _ in range(num_repeats):\n",
    "                val = [ value1, ' '.join(input_list[:len(input_list)-1]) + ' ' + input_list[len(input_list)-1] ]\n",
    "                name_list.append(val)\n",
    "                # print(val)\n",
    "            \n",
    "            # other\n",
    "            # print(\"\\n\")\n",
    "            main_list.append(prefix + j.get(\"href\"))     "
   ]
  },
  {
   "cell_type": "code",
   "execution_count": 93,
   "metadata": {},
   "outputs": [
    {
     "data": {
      "text/plain": [
       "5174"
      ]
     },
     "execution_count": 93,
     "metadata": {},
     "output_type": "execute_result"
    }
   ],
   "source": [
    "len(name_list)"
   ]
  },
  {
   "cell_type": "code",
   "execution_count": null,
   "metadata": {},
   "outputs": [
    {
     "name": "stdout",
     "output_type": "stream",
     "text": [
      "ADELAIDE HILLS - AUSTRALIA\n"
     ]
    }
   ],
   "source": [
    "input_list = ['ADELAIDE', 'HILLS', '-', 'AUSTRALIA']\n",
    "output_string = ' '.join(input_list[:len(input_list)-1]) + ' ' + input_list[len(input_list)-1]\n",
    "print(output_string)"
   ]
  },
  {
   "cell_type": "code",
   "execution_count": null,
   "metadata": {},
   "outputs": [],
   "source": [
    "# # saving html files \n",
    "\n",
    "# for i in range(len(main_list)):\n",
    "#     url = main_list[i]\n",
    "#     r = requests.get(url)\n",
    "#     soup = BeautifulSoup(r.content, 'html.parser')\n",
    "#     file_name = \"page\"+str(i)+\".html\"\n",
    "#     location = \"G:\\\\My Drive\\\\01 Assignment\\\\09 projects\\\\project_01\\\\AllHtmlPages\\\\\"\n",
    "\n",
    "#     with open(location + file_name, \"w\", encoding=\"utf-8\") as file:\n",
    "#         file.write(soup.prettify())"
   ]
  },
  {
   "cell_type": "code",
   "execution_count": 7,
   "metadata": {},
   "outputs": [
    {
     "data": {
      "text/plain": [
       "610"
      ]
     },
     "execution_count": 7,
     "metadata": {},
     "output_type": "execute_result"
    }
   ],
   "source": [
    "import os \n",
    "path = \"\"\"G:\\\\My Drive\\\\01 Assignment\\\\09 projects\\\\project_01\\\\AllHtmlPages\\\\\"\"\"\n",
    "HtmlFiles = os.listdir(path)\n",
    "len(HtmlFiles)"
   ]
  },
  {
   "cell_type": "code",
   "execution_count": 24,
   "metadata": {},
   "outputs": [],
   "source": [
    "import requests\n",
    "import json\n",
    "from bs4 import BeautifulSoup\n",
    "\n",
    "CollectedData = []\n",
    "\n",
    "for j in HtmlFiles:\n",
    "    FillWithPath = path + j\n",
    "    with open(FillWithPath, \"r\", encoding=\"utf-8\") as file:\n",
    "        html_content = file.read()\n",
    "\n",
    "    soup3 = BeautifulSoup(html_content, 'html.parser')\n",
    "\n",
    "    for i in soup3.find_all(\"div\", class_ = \"col-12 col-lg-6 px-3 py-2 p-lg-3\"):\n",
    "        product = BeautifulSoup(i.encode_contents(), 'html.parser').find(\"a\", class_=\"card-title fs-16 m-0 d-block\").text.strip()\n",
    "        price = BeautifulSoup(i.encode_contents(), 'html.parser').find(\"div\", class_=\"col-12 fw-400 wbr-cmp-product-card-price\").text.strip().split(\" \")[-1]\n",
    "        quantity = BeautifulSoup(i.encode_contents(), 'html.parser').find(\"div\", class_=\"col-6 pe-0\").text.strip()[:-2]\n",
    "\n",
    "        CollectedData.append([product, price, quantity])"
   ]
  },
  {
   "cell_type": "code",
   "execution_count": 25,
   "metadata": {},
   "outputs": [],
   "source": [
    "# print(len(name_list[:-14]))\n",
    "# print(len(CollectedData))"
   ]
  },
  {
   "cell_type": "code",
   "execution_count": 18,
   "metadata": {},
   "outputs": [],
   "source": [
    "main_list1 = []\n",
    "for i in range(5160):\n",
    "    main_list1.append(name_list[i] + CollectedData[i])"
   ]
  },
  {
   "cell_type": "code",
   "execution_count": null,
   "metadata": {},
   "outputs": [],
   "source": [
    "# number = len(CollectedData)\n",
    "# MainCollectedData = []\n",
    "# for i in range(number):\n",
    "#     print(i)\n",
    "#     MainCollectedData.append(LeftCollectedData[i] + CollectedData[i])"
   ]
  },
  {
   "cell_type": "code",
   "execution_count": 19,
   "metadata": {},
   "outputs": [],
   "source": [
    "# import csv\n",
    "\n",
    "# fields = [\"Type1\", \"Type2\", \"Product\", \"Price(₹)\", \"Quantity(ML)\"]\n",
    "\n",
    "# with open(\"product_data_.csv\", 'w', newline=\"\", encoding=\"utf-8\") as csvfile:\n",
    "#     csvwriter = csv.writer(csvfile)\n",
    "#     # Write the header row with field names\n",
    "#     csvwriter.writerow(fields)\n",
    "#     # Write the data rows\n",
    "#     csvwriter.writerows(main_list1)"
   ]
  },
  {
   "cell_type": "code",
   "execution_count": 1,
   "metadata": {},
   "outputs": [
    {
     "data": {
      "text/html": [
       "<div>\n",
       "<style scoped>\n",
       "    .dataframe tbody tr th:only-of-type {\n",
       "        vertical-align: middle;\n",
       "    }\n",
       "\n",
       "    .dataframe tbody tr th {\n",
       "        vertical-align: top;\n",
       "    }\n",
       "\n",
       "    .dataframe thead th {\n",
       "        text-align: right;\n",
       "    }\n",
       "</style>\n",
       "<table border=\"1\" class=\"dataframe\">\n",
       "  <thead>\n",
       "    <tr style=\"text-align: right;\">\n",
       "      <th></th>\n",
       "      <th>Type1</th>\n",
       "      <th>Type2</th>\n",
       "      <th>Product</th>\n",
       "      <th>Price(₹)</th>\n",
       "      <th>Quantity(ML)</th>\n",
       "    </tr>\n",
       "  </thead>\n",
       "  <tbody>\n",
       "    <tr>\n",
       "      <th>0</th>\n",
       "      <td>Wines by Region</td>\n",
       "      <td>ABRUZZO - ITALY</td>\n",
       "      <td>FANTINI COLLECTION ROSSO TAVOLA</td>\n",
       "      <td>2450</td>\n",
       "      <td>750</td>\n",
       "    </tr>\n",
       "    <tr>\n",
       "      <th>1</th>\n",
       "      <td>Wines by Region</td>\n",
       "      <td>ABRUZZO - ITALY</td>\n",
       "      <td>FANTINI MONTEPULCIANO D ABRUZZO</td>\n",
       "      <td>2350</td>\n",
       "      <td>750</td>\n",
       "    </tr>\n",
       "    <tr>\n",
       "      <th>2</th>\n",
       "      <td>Wines by Region</td>\n",
       "      <td>ABRUZZO - ITALY</td>\n",
       "      <td>JUST ROBERTO PINOT GRIGIO</td>\n",
       "      <td>1590</td>\n",
       "      <td>750</td>\n",
       "    </tr>\n",
       "    <tr>\n",
       "      <th>3</th>\n",
       "      <td>Wines by Region</td>\n",
       "      <td>ABRUZZO - ITALY</td>\n",
       "      <td>SENSI MONTEPULCIANO D ABRUZZO COLLEZIONE</td>\n",
       "      <td>1993</td>\n",
       "      <td>750</td>\n",
       "    </tr>\n",
       "    <tr>\n",
       "      <th>4</th>\n",
       "      <td>Wines by Region</td>\n",
       "      <td>ABRUZZO - ITALY</td>\n",
       "      <td>SIRENTE MONTEPULCIANO ROSSO D'ABRUZZO</td>\n",
       "      <td>2025</td>\n",
       "      <td>750</td>\n",
       "    </tr>\n",
       "    <tr>\n",
       "      <th>...</th>\n",
       "      <td>...</td>\n",
       "      <td>...</td>\n",
       "      <td>...</td>\n",
       "      <td>...</td>\n",
       "      <td>...</td>\n",
       "    </tr>\n",
       "    <tr>\n",
       "      <th>5166</th>\n",
       "      <td>Wines by Brand</td>\n",
       "      <td>ZUCCARDI</td>\n",
       "      <td>ZUCCARDI CONCRETO MALBEC</td>\n",
       "      <td>10950</td>\n",
       "      <td>750</td>\n",
       "    </tr>\n",
       "    <tr>\n",
       "      <th>5167</th>\n",
       "      <td>Wines by Brand</td>\n",
       "      <td>ZUCCARDI</td>\n",
       "      <td>ZUCCARDI JOSE MALBEC</td>\n",
       "      <td>10950</td>\n",
       "      <td>750</td>\n",
       "    </tr>\n",
       "    <tr>\n",
       "      <th>5168</th>\n",
       "      <td>Wines by Brand</td>\n",
       "      <td>ZUCCARDI</td>\n",
       "      <td>ZUCCARDI Q CABERNET SAUVIGNON</td>\n",
       "      <td>5450</td>\n",
       "      <td>750</td>\n",
       "    </tr>\n",
       "    <tr>\n",
       "      <th>5169</th>\n",
       "      <td>Wines by Brand</td>\n",
       "      <td>ZUCCARDI</td>\n",
       "      <td>ZUCCARDI SERIE A MALBEC</td>\n",
       "      <td>3595</td>\n",
       "      <td>750</td>\n",
       "    </tr>\n",
       "    <tr>\n",
       "      <th>5170</th>\n",
       "      <td>Wines by Brand</td>\n",
       "      <td>ZUCCARDI</td>\n",
       "      <td>ZUCCARDI SERIEA TORRONTES</td>\n",
       "      <td>2950</td>\n",
       "      <td>750</td>\n",
       "    </tr>\n",
       "  </tbody>\n",
       "</table>\n",
       "<p>5171 rows × 5 columns</p>\n",
       "</div>"
      ],
      "text/plain": [
       "                Type1            Type2  \\\n",
       "0     Wines by Region  ABRUZZO - ITALY   \n",
       "1     Wines by Region  ABRUZZO - ITALY   \n",
       "2     Wines by Region  ABRUZZO - ITALY   \n",
       "3     Wines by Region  ABRUZZO - ITALY   \n",
       "4     Wines by Region  ABRUZZO - ITALY   \n",
       "...               ...              ...   \n",
       "5166   Wines by Brand         ZUCCARDI   \n",
       "5167   Wines by Brand         ZUCCARDI   \n",
       "5168   Wines by Brand         ZUCCARDI   \n",
       "5169   Wines by Brand         ZUCCARDI   \n",
       "5170   Wines by Brand         ZUCCARDI   \n",
       "\n",
       "                                       Product  Price(₹) Quantity(ML)  \n",
       "0              FANTINI COLLECTION ROSSO TAVOLA      2450          750  \n",
       "1              FANTINI MONTEPULCIANO D ABRUZZO      2350          750  \n",
       "2                    JUST ROBERTO PINOT GRIGIO      1590          750  \n",
       "3     SENSI MONTEPULCIANO D ABRUZZO COLLEZIONE      1993          750  \n",
       "4        SIRENTE MONTEPULCIANO ROSSO D'ABRUZZO      2025          750  \n",
       "...                                        ...       ...          ...  \n",
       "5166                  ZUCCARDI CONCRETO MALBEC     10950          750  \n",
       "5167                      ZUCCARDI JOSE MALBEC     10950          750  \n",
       "5168             ZUCCARDI Q CABERNET SAUVIGNON      5450          750  \n",
       "5169                   ZUCCARDI SERIE A MALBEC      3595          750  \n",
       "5170                 ZUCCARDI SERIEA TORRONTES      2950          750  \n",
       "\n",
       "[5171 rows x 5 columns]"
      ]
     },
     "execution_count": 1,
     "metadata": {},
     "output_type": "execute_result"
    }
   ],
   "source": [
    "import pandas as pd \n",
    "df = pd.read_csv(\"data.csv\")\n",
    "df"
   ]
  },
  {
   "cell_type": "code",
   "execution_count": null,
   "metadata": {},
   "outputs": [],
   "source": []
  }
 ],
 "metadata": {
  "kernelspec": {
   "display_name": "Python 3",
   "language": "python",
   "name": "python3"
  },
  "language_info": {
   "codemirror_mode": {
    "name": "ipython",
    "version": 3
   },
   "file_extension": ".py",
   "mimetype": "text/x-python",
   "name": "python",
   "nbconvert_exporter": "python",
   "pygments_lexer": "ipython3",
   "version": "3.10.6"
  },
  "orig_nbformat": 4
 },
 "nbformat": 4,
 "nbformat_minor": 2
}
